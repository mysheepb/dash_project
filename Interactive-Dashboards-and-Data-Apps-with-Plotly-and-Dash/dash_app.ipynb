{
 "cells": [
  {
   "cell_type": "code",
   "execution_count": 43,
   "id": "conscious-belgium",
   "metadata": {},
   "outputs": [
    {
     "data": {
      "text/html": [
       "\n",
       "        <iframe\n",
       "            width=\"100%\"\n",
       "            height=\"650\"\n",
       "            src=\"http://127.0.0.1:8050/\"\n",
       "            frameborder=\"0\"\n",
       "            allowfullscreen\n",
       "        ></iframe>\n",
       "        "
      ],
      "text/plain": [
       "<IPython.lib.display.IFrame at 0x11e3479e8>"
      ]
     },
     "metadata": {},
     "output_type": "display_data"
    },
    {
     "name": "stdout",
     "output_type": "stream",
     "text": [
      "\u001b[1;31m---------------------------------------------------------------------------\u001b[0m\n",
      "\u001b[1;31mIndexError\u001b[0m                                Traceback (most recent call last)\n",
      "\u001b[1;32m<ipython-input-43-292d6b2d3309>\u001b[0m in \u001b[0;36mdisplay_country_report\u001b[1;34m(country=None)\u001b[0m\n",
      "\u001b[0;32m     59\u001b[0m     filtered_df = poverty_data[(poverty_data['Country Name']==country) &\n",
      "\u001b[0;32m     60\u001b[0m                               (poverty_data['Indicator Name']=='Population, total')]\n",
      "\u001b[1;32m---> 61\u001b[1;33m     \u001b[0mpopulation\u001b[0m \u001b[1;33m=\u001b[0m \u001b[0mfiltered_df\u001b[0m\u001b[1;33m.\u001b[0m\u001b[0mloc\u001b[0m\u001b[1;33m[\u001b[0m\u001b[1;33m:\u001b[0m\u001b[1;33m,\u001b[0m \u001b[1;34m'2010'\u001b[0m\u001b[1;33m]\u001b[0m\u001b[1;33m.\u001b[0m\u001b[0mvalues\u001b[0m\u001b[1;33m[\u001b[0m\u001b[1;36m0\u001b[0m\u001b[1;33m]\u001b[0m\u001b[1;33m\u001b[0m\u001b[1;33m\u001b[0m\u001b[0m\n",
      "\u001b[0m        \u001b[0;36mpopulation\u001b[0m \u001b[1;34m= \u001b[1;36mundefined\u001b[0m\u001b[0m\u001b[1;34m\n",
      "        \u001b[0m\u001b[0;36mfiltered_df.loc.values\u001b[0m \u001b[1;34m= \u001b[1;36mundefined\u001b[0m\u001b[0m\n",
      "\u001b[0;32m     62\u001b[0m     return[\n",
      "\u001b[0;32m     63\u001b[0m         \u001b[0mhtml\u001b[0m\u001b[1;33m.\u001b[0m\u001b[0mH3\u001b[0m\u001b[1;33m(\u001b[0m\u001b[0mcountry\u001b[0m\u001b[1;33m)\u001b[0m\u001b[1;33m,\u001b[0m\u001b[1;33m\u001b[0m\u001b[1;33m\u001b[0m\u001b[0m\n",
      "\n",
      "\u001b[1;31mIndexError\u001b[0m: index 0 is out of bounds for axis 0 with size 0\n",
      "\n"
     ]
    }
   ],
   "source": [
    "import pandas as pd\n",
    "from jupyter_dash import JupyterDash\n",
    "import dash_core_components as dcc\n",
    "import dash_html_components as html\n",
    "from dash.dependencies import Output, Input\n",
    "import dash_bootstrap_components as dbc\n",
    "\n",
    "\n",
    "poverty_data = pd.read_csv('data/PovStatsData.csv')\n",
    "\n",
    "app = JupyterDash(__name__, external_stylesheets=[dbc.themes.BOOTSTRAP])\n",
    "\n",
    "app.layout = html.Div([\n",
    "    html.H1('Poverty And Equity Database',\n",
    "            style={'color': 'blue',\n",
    "                   'fontSize': '40px'}),\n",
    "    html.H2('The World Bank'),\n",
    "    dcc.Dropdown(id='country',\n",
    "                 options=[{'label': country, 'value': country}\n",
    "                          for country in poverty_data['Country Name'].unique()]),\n",
    "    html.Br(),\n",
    "    html.Div(id='report'),\n",
    "    html.Br(),\n",
    "\n",
    "    dbc.Tabs([\n",
    "       dbc.Tab([\n",
    "           html.Ul([\n",
    "               html.Br(),\n",
    "               html.Li('Number of Economies: 170'),\n",
    "               html.Li('Temporal Coverage: 1974 - 2019'),\n",
    "               html.Li('Update Frequency: Quarterly'),\n",
    "               html.Li('Last Updated: March 18, 2020'),\n",
    "               html.Li([\n",
    "                   'Source: ',\n",
    "                   html.A('https://datacatalog.worldbank.org/dataset/poverty-and-equity-database',\n",
    "                          href='https://datacatalog.worldbank.org/dataset/poverty-and-equity-database')\n",
    "               ])\n",
    "           ])\n",
    "\n",
    "       ], label='Key Facts'),\n",
    "        dbc.Tab([\n",
    "            html.Ul([\n",
    "                html.Br(),\n",
    "                html.Li('Book title: Interactive Dashboards and Data Apps with Plotly and Dash'),\n",
    "                html.Li(['GitHub repo: ',\n",
    "                         html.A('https://github.com/PacktPublishing/Interactive-Dashboards-and-Data-Apps-with-Plotly-and-Dash',\n",
    "                                href='https://github.com/PacktPublishing/Interactive-Dashboards-and-Data-Apps-with-Plotly-and-Dash')\n",
    "                         ])\n",
    "            ])\n",
    "        ], label='Project Info')\n",
    "    ]),\n",
    "])\n",
    "\n",
    "@app.callback(Output('report', 'children'),\n",
    "              Input('country', 'value'))\n",
    "def display_country_report(country):\n",
    "    #if country is None:\n",
    "     #   return ''\n",
    "    filtered_df = poverty_data[(poverty_data['Country Name']==country) &\n",
    "                              (poverty_data['Indicator Name']=='Population, total')]\n",
    "    population = filtered_df.loc[:, '2010'].values[0]\n",
    "    return[\n",
    "        html.H3(country),\n",
    "        f'The population of {country} in 2010 was {population:,.0f}.'\n",
    "        \n",
    "    ]\n",
    "\n",
    "\n",
    "if __name__ == '__main__':\n",
    "    app.run_server(mode='inline', host='127.0.0.1', port='8050') #the host and port has to be specified to run correctly\n"
   ]
  },
  {
   "cell_type": "code",
   "execution_count": null,
   "id": "absent-signature",
   "metadata": {},
   "outputs": [],
   "source": []
  }
 ],
 "metadata": {
  "kernelspec": {
   "display_name": "Python 3",
   "language": "python",
   "name": "python3"
  },
  "language_info": {
   "codemirror_mode": {
    "name": "ipython",
    "version": 3
   },
   "file_extension": ".py",
   "mimetype": "text/x-python",
   "name": "python",
   "nbconvert_exporter": "python",
   "pygments_lexer": "ipython3",
   "version": "3.7.3"
  }
 },
 "nbformat": 4,
 "nbformat_minor": 5
}
